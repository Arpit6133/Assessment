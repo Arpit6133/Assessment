{
 "cells": [
  {
   "cell_type": "markdown",
   "id": "0651b5cf",
   "metadata": {},
   "source": [
    "### Question 1\n"
   ]
  },
  {
   "cell_type": "code",
   "execution_count": 37,
   "id": "2e65fb97",
   "metadata": {},
   "outputs": [
    {
     "name": "stdout",
     "output_type": "stream",
     "text": [
      "Enter any out_string of length 4 :<<>>\n",
      "Enter any word :Arpit\n"
     ]
    },
    {
     "data": {
      "text/plain": [
       "'The Make out string is : <<Arpit>>'"
      ]
     },
     "execution_count": 37,
     "metadata": {},
     "output_type": "execute_result"
    }
   ],
   "source": [
    "def make_out_word(out,word):\n",
    "    if len(out) != 4:\n",
    "        return \"Invalid length of out_string\"\n",
    "    else:\n",
    "        return \"The Make out string is : \"+out[:2]+word+out[2:]\n",
    "    \n",
    "    \n",
    "make_out_word(input(\"Enter any out_string of length 4 :\"),input(\"Enter any word :\"))"
   ]
  },
  {
   "cell_type": "markdown",
   "id": "ec99d1a4",
   "metadata": {},
   "source": [
    "### Question 2"
   ]
  },
  {
   "cell_type": "code",
   "execution_count": 38,
   "id": "e3a10703",
   "metadata": {},
   "outputs": [
    {
     "name": "stdout",
     "output_type": "stream",
     "text": [
      "1 2 5 7 5 4\n"
     ]
    },
    {
     "data": {
      "text/plain": [
       "False"
      ]
     },
     "execution_count": 38,
     "metadata": {},
     "output_type": "execute_result"
    }
   ],
   "source": [
    "import numpy as np\n",
    "\n",
    "def array(arr):\n",
    "    if len(arr) == 0:\n",
    "        return \"Array is Empty\"\n",
    "    else:\n",
    "        a = np.array(arr)\n",
    "        if a[0]==6 or a[-1]==6:\n",
    "            return True\n",
    "        else:\n",
    "            return False\n",
    "        \n",
    "array([1,2,5])\n",
    "array(list(map(int,input().split())))\n"
   ]
  },
  {
   "cell_type": "markdown",
   "id": "880d7210",
   "metadata": {},
   "source": [
    "### Question 3"
   ]
  },
  {
   "cell_type": "code",
   "execution_count": 39,
   "id": "9694079e",
   "metadata": {},
   "outputs": [
    {
     "name": "stdout",
     "output_type": "stream",
     "text": [
      "Enter an Array of length 3 :1 2 6\n",
      "Enter an Array of length 3 :7 8 6\n"
     ]
    },
    {
     "data": {
      "text/plain": [
       "array([2, 8])"
      ]
     },
     "execution_count": 39,
     "metadata": {},
     "output_type": "execute_result"
    }
   ],
   "source": [
    "import numpy as np\n",
    "\n",
    "def new_array(arr_a,arr_b):\n",
    "    arr_a1 = np.array(arr_a)\n",
    "    arr_b1 = np.array(arr_b)\n",
    "    if len(arr_a1) == 3 and len(arr_b1) == 3:\n",
    "        result = (arr_a1[1],arr_b1[1])\n",
    "        return np.array(result)\n",
    "    else:\n",
    "        return \"Invalid length of Array\"\n",
    "\n",
    "new_array(list(map(int,input(\"Enter an Array of length 3 :\").split())),list(map(int,input(\"Enter an Array of length 3 :\").split())))"
   ]
  },
  {
   "cell_type": "markdown",
   "id": "84c7f5be",
   "metadata": {},
   "source": [
    "### Question 4\n",
    "\n"
   ]
  },
  {
   "cell_type": "code",
   "execution_count": 40,
   "id": "c0179ad3",
   "metadata": {},
   "outputs": [
    {
     "data": {
      "text/plain": [
       "{1: [1], 2: [23]}"
      ]
     },
     "execution_count": 40,
     "metadata": {},
     "output_type": "execute_result"
    }
   ],
   "source": [
    "def matrix_dic(test_list):\n",
    "    d = {}\n",
    "    for i in range(len(test_list)):\n",
    "        d[i+1]= test_list[i]\n",
    "    return d\n",
    "\n",
    "matrix_dic([[1],[23]])"
   ]
  },
  {
   "cell_type": "markdown",
   "id": "af2b4460",
   "metadata": {},
   "source": [
    "### Question 5"
   ]
  },
  {
   "cell_type": "code",
   "execution_count": 41,
   "id": "c3a6ac6b",
   "metadata": {},
   "outputs": [
    {
     "data": {
      "text/plain": [
       "{10: 'Ten', 20: 'Twenty', 30: 'Thirty'}"
      ]
     },
     "execution_count": 41,
     "metadata": {},
     "output_type": "execute_result"
    }
   ],
   "source": [
    "def dict(key,value):\n",
    "    d = {}\n",
    "    if len(key) != len(value):\n",
    "        return \"Invalid Length of Key or Value\"\n",
    "    else:\n",
    "        for i in range(len(key)):\n",
    "            d[key[i]]= value[i]\n",
    "        return d\n",
    "dict([10,20,30],[\"Ten\",\"Twenty\",\"Thirty\"])\n",
    "            "
   ]
  },
  {
   "cell_type": "code",
   "execution_count": null,
   "id": "247c585f",
   "metadata": {},
   "outputs": [],
   "source": []
  }
 ],
 "metadata": {
  "kernelspec": {
   "display_name": "Python 3 (ipykernel)",
   "language": "python",
   "name": "python3"
  },
  "language_info": {
   "codemirror_mode": {
    "name": "ipython",
    "version": 3
   },
   "file_extension": ".py",
   "mimetype": "text/x-python",
   "name": "python",
   "nbconvert_exporter": "python",
   "pygments_lexer": "ipython3",
   "version": "3.8.13"
  }
 },
 "nbformat": 4,
 "nbformat_minor": 5
}
